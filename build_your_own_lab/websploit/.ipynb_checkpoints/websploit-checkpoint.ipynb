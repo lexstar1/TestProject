{
 "cells": [
  {
   "cell_type": "markdown",
   "metadata": {},
   "source": [
    "# WebSploit Documentation\n",
    "\n",
    "WebSploit is a learning environment created by Omar Santos for different Cybersecurity Ethical Hacking (Web Penetration Testing) training sessions. WebSploit includes several vulnerable applications running in Docker containers and the tools that come in Kali Linux (as well, as a few additional tools).\n",
    "\n",
    "You can download WebSploit at: https://websploit.org"
   ]
  },
  {
   "cell_type": "markdown",
   "metadata": {},
   "source": [
    "## Docker Service\n",
    "Docker is NOT configured to start at boot time. This is to avoid for the vulnerable applications to be exposed by default. To start the Docker service and automatically start the containers use:\n",
    "```\n",
    "service docker start\n",
    "```\n",
    "To obtain the status of each docker container use the following command:\n",
    "```\n",
    "docker ps \n",
    "```"
   ]
  },
  {
   "cell_type": "markdown",
   "metadata": {},
   "source": [
    "## Vulnerable Applications\n",
    "The following vulnerable applications are included:\n",
    "- [WebGoat running on port 6661](http://127.0.0.1:6661/WebGoat)\n",
    "- [Juice-Shop running on port 6662](http://127.0.0.1:6662)\n",
    "- [DVWA running on port 6663](http://127.0.0.1:66613)\n",
    "- [Mutillidae_2 6running on port 6664](http://127.0.0.1:6664)\n",
    "- [bWAPP2 running on port 6665](http://127.0.0.1:6665)\n",
    "- [DVNA running on port 6666](http://127.0.0.1:6666)\n",
    "- [Hackazon running on port 6667](http://127.0.0.1:6667)\n",
    "- [hackme-rtov running on port 9000](http://127.0.0.1:9000)"
   ]
  },
  {
   "cell_type": "code",
   "execution_count": null,
   "metadata": {},
   "outputs": [],
   "source": []
  },
  {
   "cell_type": "code",
   "execution_count": null,
   "metadata": {},
   "outputs": [],
   "source": []
  }
 ],
 "metadata": {
  "kernelspec": {
   "display_name": "Python 3",
   "language": "python",
   "name": "python3"
  },
  "language_info": {
   "codemirror_mode": {
    "name": "ipython",
    "version": 3
   },
   "file_extension": ".py",
   "mimetype": "text/x-python",
   "name": "python",
   "nbconvert_exporter": "python",
   "pygments_lexer": "ipython3",
   "version": "3.7.3"
  }
 },
 "nbformat": 4,
 "nbformat_minor": 2
}
